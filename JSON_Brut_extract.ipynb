{
  "cells": [
    {
      "cell_type": "markdown",
      "metadata": {
        "id": "view-in-github",
        "colab_type": "text"
      },
      "source": [
        "<a href=\"https://colab.research.google.com/github/JulienDbrt/BGS-Invoice/blob/main/JSON_Brut_extract.ipynb\" target=\"_parent\"><img src=\"https://colab.research.google.com/assets/colab-badge.svg\" alt=\"Open In Colab\"/></a>"
      ]
    },
    {
      "cell_type": "code",
      "execution_count": 1,
      "metadata": {
        "id": "GTjeM6Q9jCWD",
        "colab": {
          "base_uri": "https://localhost:8080/"
        },
        "outputId": "48f55d89-918b-403e-b9f6-dd1b16ce2c6f"
      },
      "outputs": [
        {
          "output_type": "stream",
          "name": "stdout",
          "text": [
            "Mounted at /content/drive\n"
          ]
        }
      ],
      "source": [
        "from google.colab import drive\n",
        "drive.mount('/content/drive')"
      ]
    },
    {
      "cell_type": "code",
      "execution_count": 11,
      "metadata": {
        "id": "8BJ5bfGNcQTI",
        "colab": {
          "base_uri": "https://localhost:8080/"
        },
        "outputId": "985dc217-9f8b-406f-f263-81dbfe017edb"
      },
      "outputs": [
        {
          "output_type": "stream",
          "name": "stdout",
          "text": [
            "Requirement already satisfied: openai in /usr/local/lib/python3.10/dist-packages (1.13.3)\n",
            "Requirement already satisfied: mistralai in /usr/local/lib/python3.10/dist-packages (0.1.6)\n",
            "Requirement already satisfied: python-dotenv in /usr/local/lib/python3.10/dist-packages (1.0.1)\n",
            "Requirement already satisfied: anyio<5,>=3.5.0 in /usr/local/lib/python3.10/dist-packages (from openai) (3.7.1)\n",
            "Requirement already satisfied: distro<2,>=1.7.0 in /usr/lib/python3/dist-packages (from openai) (1.7.0)\n",
            "Requirement already satisfied: httpx<1,>=0.23.0 in /usr/local/lib/python3.10/dist-packages (from openai) (0.25.2)\n",
            "Requirement already satisfied: pydantic<3,>=1.9.0 in /usr/local/lib/python3.10/dist-packages (from openai) (2.6.3)\n",
            "Requirement already satisfied: sniffio in /usr/local/lib/python3.10/dist-packages (from openai) (1.3.1)\n",
            "Requirement already satisfied: tqdm>4 in /usr/local/lib/python3.10/dist-packages (from openai) (4.66.2)\n",
            "Requirement already satisfied: typing-extensions<5,>=4.7 in /usr/local/lib/python3.10/dist-packages (from openai) (4.10.0)\n",
            "Requirement already satisfied: orjson<4.0.0,>=3.9.10 in /usr/local/lib/python3.10/dist-packages (from mistralai) (3.9.15)\n",
            "Requirement already satisfied: pandas<3.0.0,>=2.2.0 in /usr/local/lib/python3.10/dist-packages (from mistralai) (2.2.1)\n",
            "Requirement already satisfied: pyarrow<16.0.0,>=15.0.0 in /usr/local/lib/python3.10/dist-packages (from mistralai) (15.0.1)\n",
            "Requirement already satisfied: idna>=2.8 in /usr/local/lib/python3.10/dist-packages (from anyio<5,>=3.5.0->openai) (3.6)\n",
            "Requirement already satisfied: exceptiongroup in /usr/local/lib/python3.10/dist-packages (from anyio<5,>=3.5.0->openai) (1.2.0)\n",
            "Requirement already satisfied: certifi in /usr/local/lib/python3.10/dist-packages (from httpx<1,>=0.23.0->openai) (2024.2.2)\n",
            "Requirement already satisfied: httpcore==1.* in /usr/local/lib/python3.10/dist-packages (from httpx<1,>=0.23.0->openai) (1.0.4)\n",
            "Requirement already satisfied: h11<0.15,>=0.13 in /usr/local/lib/python3.10/dist-packages (from httpcore==1.*->httpx<1,>=0.23.0->openai) (0.14.0)\n",
            "Requirement already satisfied: numpy<2,>=1.22.4 in /usr/local/lib/python3.10/dist-packages (from pandas<3.0.0,>=2.2.0->mistralai) (1.25.2)\n",
            "Requirement already satisfied: python-dateutil>=2.8.2 in /usr/local/lib/python3.10/dist-packages (from pandas<3.0.0,>=2.2.0->mistralai) (2.8.2)\n",
            "Requirement already satisfied: pytz>=2020.1 in /usr/local/lib/python3.10/dist-packages (from pandas<3.0.0,>=2.2.0->mistralai) (2023.4)\n",
            "Requirement already satisfied: tzdata>=2022.7 in /usr/local/lib/python3.10/dist-packages (from pandas<3.0.0,>=2.2.0->mistralai) (2024.1)\n",
            "Requirement already satisfied: annotated-types>=0.4.0 in /usr/local/lib/python3.10/dist-packages (from pydantic<3,>=1.9.0->openai) (0.6.0)\n",
            "Requirement already satisfied: pydantic-core==2.16.3 in /usr/local/lib/python3.10/dist-packages (from pydantic<3,>=1.9.0->openai) (2.16.3)\n",
            "Requirement already satisfied: six>=1.5 in /usr/local/lib/python3.10/dist-packages (from python-dateutil>=2.8.2->pandas<3.0.0,>=2.2.0->mistralai) (1.16.0)\n"
          ]
        }
      ],
      "source": [
        "!pip install openai mistralai python-dotenv"
      ]
    },
    {
      "cell_type": "markdown",
      "metadata": {
        "id": "9bq8kYB_D97w"
      },
      "source": [
        "# Skipped :\n",
        "64060\n",
        "63257\n",
        "63155\n",
        "63820\n",
        "63155\n"
      ]
    },
    {
      "cell_type": "markdown",
      "source": [
        "## OpenAI"
      ],
      "metadata": {
        "id": "YRF7IwCv9VDT"
      }
    },
    {
      "cell_type": "code",
      "source": [
        "# Extraction de \"Pages\", nettoyage de la données et envoie dans OpenAI API (le modèle varie selon le nombre de tokens estimé)\n",
        "\n",
        "import os\n",
        "import re\n",
        "import csv\n",
        "import glob\n",
        "import json\n",
        "import openai\n",
        "import chardet\n",
        "from tqdm import tqdm\n",
        "from google.colab import userdata\n",
        "from pydantic import BaseModel\n",
        "\n",
        "openai.api_key = userdata.get('OPENAI_API_KEY')\n",
        "\n",
        "directory_path = '/content/drive/MyDrive/EXPORT_3EME_WEB 4'\n",
        "output_file_path = '/content/json_final_output_openai.csv'\n",
        "\n",
        "class Result(BaseModel):\n",
        "    vendorEmail: str\n",
        "    uo_2: str\n",
        "    invoiceNumber: str\n",
        "    vendorCode: str\n",
        "    commitmentCode: str\n",
        "    title: str\n",
        "    dueDate: str\n",
        "    documentType: str\n",
        "    vendorSiret: str\n",
        "    projectCode: str\n",
        "    ttc: str\n",
        "    tiers: str\n",
        "    ht: str\n",
        "    dateDocument: str\n",
        "    subChapter: str\n",
        "    commitment: str\n",
        "    project: str\n",
        "    invoiceType: str\n",
        "\n",
        "def estimate_token_count(text):\n",
        "    \"\"\"Estimate the number of tokens based on the text length.\n",
        "    Rough estimation assuming an average token length, including spaces.\"\"\"\n",
        "    return len(text) / 5\n",
        "\n",
        "def extract_data_json(json_file_path):\n",
        "    \"\"\"Extract and process data from a JSON file.\"\"\"\n",
        "    try:\n",
        "        with open(json_file_path, 'rb') as file:\n",
        "            raw_data = file.read()\n",
        "            if not raw_data:\n",
        "                print(f\"Warning: The file {json_file_path} is empty.\")\n",
        "                return None\n",
        "            encoding = chardet.detect(raw_data)['encoding'] or 'utf-8'\n",
        "            json_data = json.loads(raw_data.decode(encoding))\n",
        "    except json.JSONDecodeError as e:\n",
        "        print(f\"Error decoding JSON from the file {json_file_path}: {e}\")\n",
        "        return None\n",
        "\n",
        "    pages_data = json_data.get('pages', [])\n",
        "    sentences = []\n",
        "\n",
        "    for page in pages_data:\n",
        "        if page.get('$type') == 'PageContent':\n",
        "            for text_zone in page.get('Items', []):\n",
        "                if text_zone.get('$type') == 'TextZone':\n",
        "                    for line in text_zone.get('Ln', []):\n",
        "                        for item in line.get('Items', []):\n",
        "                            if item.get('$type') == 'Word':\n",
        "                                sentences.append(item.get('Value', ''))\n",
        "\n",
        "    sentence = ' '.join(sentences)\n",
        "    file_name = os.path.basename(json_file_path)\n",
        "    return {'sentence': sentence, 'file_name': file_name}\n",
        "\n",
        "def process_json_files(directory_path, output_file_path):\n",
        "    json_files = glob.glob(f\"{directory_path}/*.json\")\n",
        "    results = []\n",
        "    print(f\"Processing {len(json_files)} files...\")\n",
        "\n",
        "    for file_path in tqdm(json_files, desc=\"Progress\"):\n",
        "        print(f\"Processing file: {file_path}\")\n",
        "        invoice_data = extract_data_json(file_path)\n",
        "        if invoice_data is None:\n",
        "            continue\n",
        "\n",
        "        sentence = invoice_data.get('sentence', '')\n",
        "        token_count = estimate_token_count(sentence)\n",
        "        if token_count > 32000:\n",
        "            max_length = 32000 * 5\n",
        "            invoice_data['sentence'] = sentence[:max_length]\n",
        "\n",
        "        document_details = invoice_data\n",
        "\n",
        "        token_count = estimate_token_count(document_details)\n",
        "        print(f\"Estimated token count for {file_path}: {token_count}\")\n",
        "\n",
        "        model = 'gpt-4-0125-preview' if token_count > 15500 else 'gpt-3.5-turbo-0125'\n",
        "\n",
        "        if token_count > 31000:\n",
        "            print(f\"{file_path} skipped due to token limit\")\n",
        "            continue\n",
        "\n",
        "        prompt = [\n",
        "            {},\n",
        "            {}\n",
        "        ]\n",
        "\n",
        "        response = openai.chat.completions.create(\n",
        "            model=model,\n",
        "            response_format={ \"type\": \"json_object\" },\n",
        "            messages=[\n",
        "            {\"role\":\"system\", \"content\":'Génère une sortie JSON avec les clés suivantes et leurs valeurs respectives à partir des informations que je te donne. Si la clé est absente, le champ est rempli avec une chaîne vide ou apparaît comme « NaN » (Not a Number) dans le jeu de données : \"vendor Email\" : adresse e-mail du fournisseur. \"numeroPiece\" : Contient la référence (Réf.) du document. S’il s’agit d’une situation de travaux, ajoute à cette référence le numéro de situation après un slash. \"typeDocument\" : Spécifie le type de document en fonction de la typologie suivante : (09.01 - Factures / 09.04 - Factures développement (avant promesse) / 09.07 - Factures marketing / 09.08 - Factures travaux et prorata / 09.21 - Honoraires juridiques / 09.22 - Honoraires prescripteurs / 09.31 - Situations travaux MOE BPCC / 09.32 - Situations travaux MOE externe. »). \"tiersSiret\" : Un numéro SIRET français unique à chaque entreprise française. \"codeProjet\" : Représente un code unique pour le projet associé à la facture ; composé de 14 chiffres : les 9 chiffres du Siren et 5 chiffres propres à l’établissement. \"ttc\" : Le montant total à payer, toutes taxes comprises (TTC). \"tiers\" : Le nom du tiers ou du fournisseur. Vigilance sour le taux de TVA appliqué car il y a de forte variabilité, tu dois te Baer sur le total TTC. \"ht\" : Le montant total du document au format hors taxes (HT). \"dateDocument\" : La date d’emission du document. \"dueDate\" : Indique la date de l échéance du document. Elle est fixée à 30 jours pour une facture, 45 ou 60 pour les engagements de travaux. En fonction de la date de facture, elle sera payée en milieu de mois (le 15) ou ou fin du mois (30 ou 31) suivant la date d’émission de la facture. Il faut compter 15 jours de plus pour les situations de travaux (1 mois 15 jours et maximum 2 mois). \"typeFacture\" : Indique le type de la facture (facture, situation de travaux ou avoir).'},\n",
        "            {\"role\":\"user\", \"content\":f\"Here are the document details: \\n{document_details}, create a JSON output\"}\n",
        "         ]\n",
        "      )\n",
        "\n",
        "        llm_output = response.choices[0].message.content\n",
        "        invoice_data[\"LLM_output\"] = llm_output\n",
        "        results.append(invoice_data)\n",
        "\n",
        "    with open(output_file_path, 'w', newline='', encoding='utf-8') as csvfile:\n",
        "        fieldnames = [\n",
        "            \"sentence\", \"file_name\", \"LLM_output\"\n",
        "        ]\n",
        "        writer = csv.DictWriter(csvfile, fieldnames=fieldnames)\n",
        "        writer.writeheader()\n",
        "        for item in results:\n",
        "            writer.writerow(item)\n",
        "\n",
        "process_json_files(directory_path, output_file_path)\n"
      ],
      "metadata": {
        "id": "NDOBXqz24aXO",
        "colab": {
          "base_uri": "https://localhost:8080/"
        },
        "outputId": "40b5ea91-6e3c-459b-a961-9ed662b4afeb"
      },
      "execution_count": 14,
      "outputs": [
        {
          "output_type": "stream",
          "name": "stdout",
          "text": [
            "Processing 25 files...\n"
          ]
        },
        {
          "output_type": "stream",
          "name": "stderr",
          "text": [
            "\rProgress:   0%|          | 0/25 [00:00<?, ?it/s]"
          ]
        },
        {
          "output_type": "stream",
          "name": "stdout",
          "text": [
            "Processing file: /content/drive/MyDrive/EXPORT_3EME_WEB 4/32137.json\n",
            "Estimated token count for /content/drive/MyDrive/EXPORT_3EME_WEB 4/32137.json: 0.4\n"
          ]
        },
        {
          "output_type": "stream",
          "name": "stderr",
          "text": [
            "\rProgress:   4%|▍         | 1/25 [00:03<01:13,  3.06s/it]"
          ]
        },
        {
          "output_type": "stream",
          "name": "stdout",
          "text": [
            "Processing file: /content/drive/MyDrive/EXPORT_3EME_WEB 4/7395.json\n",
            "Estimated token count for /content/drive/MyDrive/EXPORT_3EME_WEB 4/7395.json: 0.4\n"
          ]
        },
        {
          "output_type": "stream",
          "name": "stderr",
          "text": [
            "\rProgress:   8%|▊         | 2/25 [00:06<01:13,  3.20s/it]"
          ]
        },
        {
          "output_type": "stream",
          "name": "stdout",
          "text": [
            "Processing file: /content/drive/MyDrive/EXPORT_3EME_WEB 4/32129.json\n",
            "Estimated token count for /content/drive/MyDrive/EXPORT_3EME_WEB 4/32129.json: 0.4\n"
          ]
        },
        {
          "output_type": "stream",
          "name": "stderr",
          "text": [
            "\rProgress:  12%|█▏        | 3/25 [00:10<01:19,  3.63s/it]"
          ]
        },
        {
          "output_type": "stream",
          "name": "stdout",
          "text": [
            "Processing file: /content/drive/MyDrive/EXPORT_3EME_WEB 4/7392.json\n",
            "Estimated token count for /content/drive/MyDrive/EXPORT_3EME_WEB 4/7392.json: 0.4\n"
          ]
        },
        {
          "output_type": "stream",
          "name": "stderr",
          "text": [
            "\rProgress:  16%|█▌        | 4/25 [00:14<01:17,  3.69s/it]"
          ]
        },
        {
          "output_type": "stream",
          "name": "stdout",
          "text": [
            "Processing file: /content/drive/MyDrive/EXPORT_3EME_WEB 4/7394.json\n",
            "Estimated token count for /content/drive/MyDrive/EXPORT_3EME_WEB 4/7394.json: 0.4\n"
          ]
        },
        {
          "output_type": "stream",
          "name": "stderr",
          "text": [
            "\rProgress:  20%|██        | 5/25 [00:17<01:11,  3.58s/it]"
          ]
        },
        {
          "output_type": "stream",
          "name": "stdout",
          "text": [
            "Processing file: /content/drive/MyDrive/EXPORT_3EME_WEB 4/62434.json\n",
            "Estimated token count for /content/drive/MyDrive/EXPORT_3EME_WEB 4/62434.json: 0.4\n"
          ]
        },
        {
          "output_type": "stream",
          "name": "stderr",
          "text": [
            "\rProgress:  24%|██▍       | 6/25 [00:21<01:09,  3.64s/it]"
          ]
        },
        {
          "output_type": "stream",
          "name": "stdout",
          "text": [
            "Processing file: /content/drive/MyDrive/EXPORT_3EME_WEB 4/62251.json\n",
            "Estimated token count for /content/drive/MyDrive/EXPORT_3EME_WEB 4/62251.json: 0.4\n"
          ]
        },
        {
          "output_type": "stream",
          "name": "stderr",
          "text": [
            "\rProgress:  28%|██▊       | 7/25 [00:32<01:51,  6.22s/it]"
          ]
        },
        {
          "output_type": "stream",
          "name": "stdout",
          "text": [
            "Processing file: /content/drive/MyDrive/EXPORT_3EME_WEB 4/62197.json\n",
            "Estimated token count for /content/drive/MyDrive/EXPORT_3EME_WEB 4/62197.json: 0.4\n"
          ]
        },
        {
          "output_type": "stream",
          "name": "stderr",
          "text": [
            "\rProgress:  32%|███▏      | 8/25 [00:42<02:01,  7.16s/it]"
          ]
        },
        {
          "output_type": "stream",
          "name": "stdout",
          "text": [
            "Processing file: /content/drive/MyDrive/EXPORT_3EME_WEB 4/62180.json\n",
            "Estimated token count for /content/drive/MyDrive/EXPORT_3EME_WEB 4/62180.json: 0.4\n"
          ]
        },
        {
          "output_type": "stream",
          "name": "stderr",
          "text": [
            "\rProgress:  36%|███▌      | 9/25 [00:46<01:39,  6.19s/it]"
          ]
        },
        {
          "output_type": "stream",
          "name": "stdout",
          "text": [
            "Processing file: /content/drive/MyDrive/EXPORT_3EME_WEB 4/62178.json\n",
            "Estimated token count for /content/drive/MyDrive/EXPORT_3EME_WEB 4/62178.json: 0.4\n"
          ]
        },
        {
          "output_type": "stream",
          "name": "stderr",
          "text": [
            "\rProgress:  40%|████      | 10/25 [00:49<01:19,  5.31s/it]"
          ]
        },
        {
          "output_type": "stream",
          "name": "stdout",
          "text": [
            "Processing file: /content/drive/MyDrive/EXPORT_3EME_WEB 4/62176.json\n",
            "Estimated token count for /content/drive/MyDrive/EXPORT_3EME_WEB 4/62176.json: 0.4\n"
          ]
        },
        {
          "output_type": "stream",
          "name": "stderr",
          "text": [
            "\rProgress:  44%|████▍     | 11/25 [00:53<01:07,  4.80s/it]"
          ]
        },
        {
          "output_type": "stream",
          "name": "stdout",
          "text": [
            "Processing file: /content/drive/MyDrive/EXPORT_3EME_WEB 4/62034.json\n",
            "Estimated token count for /content/drive/MyDrive/EXPORT_3EME_WEB 4/62034.json: 0.4\n"
          ]
        },
        {
          "output_type": "stream",
          "name": "stderr",
          "text": [
            "\rProgress:  48%|████▊     | 12/25 [00:57<01:00,  4.64s/it]"
          ]
        },
        {
          "output_type": "stream",
          "name": "stdout",
          "text": [
            "Processing file: /content/drive/MyDrive/EXPORT_3EME_WEB 4/61720.json\n",
            "Estimated token count for /content/drive/MyDrive/EXPORT_3EME_WEB 4/61720.json: 0.4\n"
          ]
        },
        {
          "output_type": "stream",
          "name": "stderr",
          "text": [
            "\rProgress:  52%|█████▏    | 13/25 [01:00<00:49,  4.15s/it]"
          ]
        },
        {
          "output_type": "stream",
          "name": "stdout",
          "text": [
            "Processing file: /content/drive/MyDrive/EXPORT_3EME_WEB 4/61715.json\n",
            "Estimated token count for /content/drive/MyDrive/EXPORT_3EME_WEB 4/61715.json: 0.4\n"
          ]
        },
        {
          "output_type": "stream",
          "name": "stderr",
          "text": [
            "\rProgress:  56%|█████▌    | 14/25 [01:03<00:42,  3.83s/it]"
          ]
        },
        {
          "output_type": "stream",
          "name": "stdout",
          "text": [
            "Processing file: /content/drive/MyDrive/EXPORT_3EME_WEB 4/61703.json\n",
            "Estimated token count for /content/drive/MyDrive/EXPORT_3EME_WEB 4/61703.json: 0.4\n"
          ]
        },
        {
          "output_type": "stream",
          "name": "stderr",
          "text": [
            "\rProgress:  60%|██████    | 15/25 [01:06<00:36,  3.62s/it]"
          ]
        },
        {
          "output_type": "stream",
          "name": "stdout",
          "text": [
            "Processing file: /content/drive/MyDrive/EXPORT_3EME_WEB 4/57859.json\n",
            "Estimated token count for /content/drive/MyDrive/EXPORT_3EME_WEB 4/57859.json: 0.4\n"
          ]
        },
        {
          "output_type": "stream",
          "name": "stderr",
          "text": [
            "\rProgress:  64%|██████▍   | 16/25 [01:10<00:33,  3.69s/it]"
          ]
        },
        {
          "output_type": "stream",
          "name": "stdout",
          "text": [
            "Processing file: /content/drive/MyDrive/EXPORT_3EME_WEB 4/57849.json\n",
            "Estimated token count for /content/drive/MyDrive/EXPORT_3EME_WEB 4/57849.json: 0.4\n"
          ]
        },
        {
          "output_type": "stream",
          "name": "stderr",
          "text": [
            "\rProgress:  68%|██████▊   | 17/25 [01:14<00:30,  3.87s/it]"
          ]
        },
        {
          "output_type": "stream",
          "name": "stdout",
          "text": [
            "Processing file: /content/drive/MyDrive/EXPORT_3EME_WEB 4/57842.json\n",
            "Estimated token count for /content/drive/MyDrive/EXPORT_3EME_WEB 4/57842.json: 0.4\n"
          ]
        },
        {
          "output_type": "stream",
          "name": "stderr",
          "text": [
            "\rProgress:  72%|███████▏  | 18/25 [01:18<00:27,  3.88s/it]"
          ]
        },
        {
          "output_type": "stream",
          "name": "stdout",
          "text": [
            "Processing file: /content/drive/MyDrive/EXPORT_3EME_WEB 4/57835.json\n",
            "Estimated token count for /content/drive/MyDrive/EXPORT_3EME_WEB 4/57835.json: 0.4\n"
          ]
        },
        {
          "output_type": "stream",
          "name": "stderr",
          "text": [
            "\rProgress:  76%|███████▌  | 19/25 [01:23<00:24,  4.13s/it]"
          ]
        },
        {
          "output_type": "stream",
          "name": "stdout",
          "text": [
            "Processing file: /content/drive/MyDrive/EXPORT_3EME_WEB 4/57828.json\n",
            "Estimated token count for /content/drive/MyDrive/EXPORT_3EME_WEB 4/57828.json: 0.4\n"
          ]
        },
        {
          "output_type": "stream",
          "name": "stderr",
          "text": [
            "\rProgress:  80%|████████  | 20/25 [01:26<00:19,  3.95s/it]"
          ]
        },
        {
          "output_type": "stream",
          "name": "stdout",
          "text": [
            "Processing file: /content/drive/MyDrive/EXPORT_3EME_WEB 4/57833.json\n",
            "Estimated token count for /content/drive/MyDrive/EXPORT_3EME_WEB 4/57833.json: 0.4\n"
          ]
        },
        {
          "output_type": "stream",
          "name": "stderr",
          "text": [
            "\rProgress:  84%|████████▍ | 21/25 [01:30<00:15,  3.83s/it]"
          ]
        },
        {
          "output_type": "stream",
          "name": "stdout",
          "text": [
            "Processing file: /content/drive/MyDrive/EXPORT_3EME_WEB 4/57826.json\n",
            "Estimated token count for /content/drive/MyDrive/EXPORT_3EME_WEB 4/57826.json: 0.4\n"
          ]
        },
        {
          "output_type": "stream",
          "name": "stderr",
          "text": [
            "\rProgress:  88%|████████▊ | 22/25 [01:32<00:10,  3.40s/it]"
          ]
        },
        {
          "output_type": "stream",
          "name": "stdout",
          "text": [
            "Processing file: /content/drive/MyDrive/EXPORT_3EME_WEB 4/57815.json\n",
            "Estimated token count for /content/drive/MyDrive/EXPORT_3EME_WEB 4/57815.json: 0.4\n"
          ]
        },
        {
          "output_type": "stream",
          "name": "stderr",
          "text": [
            "\rProgress:  92%|█████████▏| 23/25 [01:36<00:07,  3.60s/it]"
          ]
        },
        {
          "output_type": "stream",
          "name": "stdout",
          "text": [
            "Processing file: /content/drive/MyDrive/EXPORT_3EME_WEB 4/57773.json\n",
            "Estimated token count for /content/drive/MyDrive/EXPORT_3EME_WEB 4/57773.json: 0.4\n"
          ]
        },
        {
          "output_type": "stream",
          "name": "stderr",
          "text": [
            "\rProgress:  96%|█████████▌| 24/25 [01:40<00:03,  3.58s/it]"
          ]
        },
        {
          "output_type": "stream",
          "name": "stdout",
          "text": [
            "Processing file: /content/drive/MyDrive/EXPORT_3EME_WEB 4/57763.json\n",
            "Estimated token count for /content/drive/MyDrive/EXPORT_3EME_WEB 4/57763.json: 0.4\n"
          ]
        },
        {
          "output_type": "stream",
          "name": "stderr",
          "text": [
            "Progress: 100%|██████████| 25/25 [01:44<00:00,  4.17s/it]\n"
          ]
        }
      ]
    }
  ],
  "metadata": {
    "colab": {
      "provenance": [],
      "include_colab_link": true
    },
    "kernelspec": {
      "display_name": "Python 3",
      "name": "python3"
    },
    "language_info": {
      "name": "python"
    }
  },
  "nbformat": 4,
  "nbformat_minor": 0
}